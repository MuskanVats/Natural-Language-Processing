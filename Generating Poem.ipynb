{
 "cells": [
  {
   "cell_type": "markdown",
   "metadata": {},
   "source": [
    "### Importing libraries"
   ]
  },
  {
   "cell_type": "code",
   "execution_count": 1,
   "metadata": {},
   "outputs": [],
   "source": [
    "from tensorflow.keras.preprocessing.sequence import pad_sequences\n",
    "from tensorflow.keras.layers import Embedding, LSTM, Dense, Dropout, Bidirectional\n",
    "from tensorflow.keras.preprocessing.text import Tokenizer\n",
    "from tensorflow.keras.models import Sequential\n",
    "from tensorflow.keras.optimizers import Adam\n",
    "from tensorflow.keras import regularizers\n",
    "import tensorflow.keras.utils as ku \n",
    "import numpy as np "
   ]
  },
  {
   "cell_type": "code",
   "execution_count": 2,
   "metadata": {},
   "outputs": [],
   "source": [
    "import requests"
   ]
  },
  {
   "cell_type": "code",
   "execution_count": 3,
   "metadata": {},
   "outputs": [
    {
     "data": {
      "text/plain": [
       "<Response [200]>"
      ]
     },
     "execution_count": 3,
     "metadata": {},
     "output_type": "execute_result"
    }
   ],
   "source": [
    "requests.get(\"https://storage.googleapis.com/laurencemoroney-blog.appspot.com/sonnets.txt\")"
   ]
  },
  {
   "cell_type": "markdown",
   "metadata": {},
   "source": [
    "### Getting Information from URL"
   ]
  },
  {
   "cell_type": "code",
   "execution_count": 4,
   "metadata": {},
   "outputs": [],
   "source": [
    "response=requests.get(\"https://storage.googleapis.com/laurencemoroney-blog.appspot.com/sonnets.txt\")"
   ]
  },
  {
   "cell_type": "markdown",
   "metadata": {},
   "source": [
    "### Storing the data"
   ]
  },
  {
   "cell_type": "code",
   "execution_count": 7,
   "metadata": {},
   "outputs": [],
   "source": [
    "data =response.text"
   ]
  },
  {
   "cell_type": "code",
   "execution_count": 8,
   "metadata": {},
   "outputs": [],
   "source": [
    "corpus = data.lower().split(\"\\n\")"
   ]
  },
  {
   "cell_type": "markdown",
   "metadata": {},
   "source": [
    "### Fitting the tokenizer on text"
   ]
  },
  {
   "cell_type": "code",
   "execution_count": 12,
   "metadata": {},
   "outputs": [],
   "source": [
    "tokenizer = Tokenizer()\n",
    "tokenizer.fit_on_texts(corpus)\n",
    "total_words = len(tokenizer.word_index) + 1"
   ]
  },
  {
   "cell_type": "markdown",
   "metadata": {},
   "source": [
    "### Creating input sequences using list of tokens"
   ]
  },
  {
   "cell_type": "code",
   "execution_count": 13,
   "metadata": {},
   "outputs": [],
   "source": [
    "input_sequences = []\n",
    "for line in corpus:\n",
    "    token_list = tokenizer.texts_to_sequences([line])[0]\n",
    "    for i in range(1, len(token_list)):\n",
    "        n_gram_sequence = token_list[:i+1]\n",
    "        input_sequences.append(n_gram_sequence)"
   ]
  },
  {
   "cell_type": "code",
   "execution_count": 16,
   "metadata": {},
   "outputs": [],
   "source": [
    "# pad sequences \n",
    "max_sequence_len = max([len(x) for x in input_sequences])\n",
    "input_sequences = np.array(pad_sequences(input_sequences, maxlen=max_sequence_len, padding='pre'))"
   ]
  },
  {
   "cell_type": "markdown",
   "metadata": {},
   "source": [
    "### Splitting the predictors&Labels "
   ]
  },
  {
   "cell_type": "code",
   "execution_count": 17,
   "metadata": {},
   "outputs": [],
   "source": [
    "predictors = input_sequences[:,:-1]\n",
    "label=input_sequences[:,-1]"
   ]
  },
  {
   "cell_type": "markdown",
   "metadata": {},
   "source": [
    "### One hot encoding the Labels"
   ]
  },
  {
   "cell_type": "code",
   "execution_count": null,
   "metadata": {},
   "outputs": [],
   "source": [
    "label = ku.to_categorical(label, num_classes=total_words)"
   ]
  },
  {
   "cell_type": "code",
   "execution_count": 21,
   "metadata": {},
   "outputs": [
    {
     "name": "stdout",
     "output_type": "stream",
     "text": [
      "[[0. 0. 0. ... 0. 0. 0.]\n",
      " [0. 0. 0. ... 0. 0. 0.]\n",
      " [0. 0. 0. ... 0. 0. 0.]\n",
      " ...\n",
      " [0. 0. 0. ... 0. 0. 1.]\n",
      " [0. 0. 0. ... 0. 0. 0.]\n",
      " [0. 0. 0. ... 0. 0. 0.]]\n",
      "[[   0    0    0 ...    0    0   34]\n",
      " [   0    0    0 ...    0   34  417]\n",
      " [   0    0    0 ...   34  417  877]\n",
      " ...\n",
      " [   0    0    0 ... 3209  493  493]\n",
      " [   0    0    0 ...  493  493 3210]\n",
      " [   0    0    0 ...  493 3210   15]]\n",
      "[[   0    0    0 ...    0   34  417]\n",
      " [   0    0    0 ...   34  417  877]\n",
      " [   0    0    0 ...  417  877  166]\n",
      " ...\n",
      " [   0    0    0 ...  493  493 3210]\n",
      " [   0    0    0 ...  493 3210   15]\n",
      " [   0    0    0 ... 3210   15   14]]\n"
     ]
    }
   ],
   "source": [
    "print(label)\n",
    "print(predictors)\n",
    "print(input_sequences)"
   ]
  },
  {
   "cell_type": "markdown",
   "metadata": {},
   "source": [
    "### Creating the model"
   ]
  },
  {
   "cell_type": "code",
   "execution_count": 22,
   "metadata": {},
   "outputs": [
    {
     "name": "stdout",
     "output_type": "stream",
     "text": [
      "Model: \"sequential\"\n",
      "_________________________________________________________________\n",
      "Layer (type)                 Output Shape              Param #   \n",
      "=================================================================\n",
      "embedding (Embedding)        (None, 10, 100)           321100    \n",
      "_________________________________________________________________\n",
      "bidirectional (Bidirectional (None, 10, 300)           301200    \n",
      "_________________________________________________________________\n",
      "dropout (Dropout)            (None, 10, 300)           0         \n",
      "_________________________________________________________________\n",
      "lstm_1 (LSTM)                (None, 100)               160400    \n",
      "_________________________________________________________________\n",
      "dense (Dense)                (None, 1605)              162105    \n",
      "_________________________________________________________________\n",
      "dense_1 (Dense)              (None, 3211)              5156866   \n",
      "=================================================================\n",
      "Total params: 6,101,671\n",
      "Trainable params: 6,101,671\n",
      "Non-trainable params: 0\n",
      "_________________________________________________________________\n",
      "None\n"
     ]
    }
   ],
   "source": [
    "model = Sequential()\n",
    "model.add(Embedding(total_words, 100, input_length=max_sequence_len-1))\n",
    "model.add(Bidirectional(LSTM(150, return_sequences = True)))\n",
    "model.add(Dropout(0.2))\n",
    "model.add(LSTM(100))\n",
    "model.add(Dense(total_words/2, activation='relu', kernel_regularizer=regularizers.l2(0.01)))\n",
    "model.add(Dense(total_words, activation='softmax'))\n",
    "model.compile(loss='categorical_crossentropy', optimizer='adam', metrics=['accuracy'])\n",
    "print(model.summary())"
   ]
  },
  {
   "cell_type": "code",
   "execution_count": 23,
   "metadata": {},
   "outputs": [
    {
     "data": {
      "text/plain": [
       "3211"
      ]
     },
     "execution_count": 23,
     "metadata": {},
     "output_type": "execute_result"
    }
   ],
   "source": [
    "total_words"
   ]
  },
  {
   "cell_type": "markdown",
   "metadata": {},
   "source": [
    "### Fitting the model"
   ]
  },
  {
   "cell_type": "code",
   "execution_count": 24,
   "metadata": {},
   "outputs": [
    {
     "name": "stdout",
     "output_type": "stream",
     "text": [
      "Train on 15462 samples\n",
      "Epoch 1/100\n",
      "15462/15462 [==============================] - 124s 8ms/sample - loss: 6.9145 - accuracy: 0.0209\n",
      "Epoch 2/100\n",
      "15462/15462 [==============================] - 102s 7ms/sample - loss: 6.5004 - accuracy: 0.0227\n",
      "Epoch 3/100\n",
      "15462/15462 [==============================] - 102s 7ms/sample - loss: 6.3999 - accuracy: 0.0252\n",
      "Epoch 4/100\n",
      "15462/15462 [==============================] - 95s 6ms/sample - loss: 6.2723 - accuracy: 0.0298\n",
      "Epoch 5/100\n",
      "15462/15462 [==============================] - 94s 6ms/sample - loss: 6.1819 - accuracy: 0.0356\n",
      "Epoch 6/100\n",
      "15462/15462 [==============================] - 94s 6ms/sample - loss: 6.0969 - accuracy: 0.0372\n",
      "Epoch 7/100\n",
      "15462/15462 [==============================] - 99s 6ms/sample - loss: 6.0157 - accuracy: 0.0402\n",
      "Epoch 8/100\n",
      "15462/15462 [==============================] - 99s 6ms/sample - loss: 5.9287 - accuracy: 0.0444\n",
      "Epoch 9/100\n",
      "15462/15462 [==============================] - 99s 6ms/sample - loss: 5.8323 - accuracy: 0.0485\n",
      "Epoch 10/100\n",
      "15462/15462 [==============================] - 100s 6ms/sample - loss: 5.7246 - accuracy: 0.0577\n",
      "Epoch 11/100\n",
      "15462/15462 [==============================] - 113s 7ms/sample - loss: 5.6119 - accuracy: 0.0659\n",
      "Epoch 12/100\n",
      "15462/15462 [==============================] - 99s 6ms/sample - loss: 5.5028 - accuracy: 0.0733\n",
      "Epoch 13/100\n",
      "15462/15462 [==============================] - 99s 6ms/sample - loss: 5.3922 - accuracy: 0.0751\n",
      "Epoch 14/100\n",
      "15462/15462 [==============================] - 105s 7ms/sample - loss: 5.2856 - accuracy: 0.0832\n",
      "Epoch 15/100\n",
      "15462/15462 [==============================] - 107s 7ms/sample - loss: 5.1852 - accuracy: 0.0905\n",
      "Epoch 16/100\n",
      "15462/15462 [==============================] - 101s 7ms/sample - loss: 5.0840 - accuracy: 0.0974\n",
      "Epoch 17/100\n",
      "15462/15462 [==============================] - 101s 7ms/sample - loss: 4.9804 - accuracy: 0.1050\n",
      "Epoch 18/100\n",
      "15462/15462 [==============================] - 106s 7ms/sample - loss: 4.8741 - accuracy: 0.1121\n",
      "Epoch 19/100\n",
      "15462/15462 [==============================] - 107s 7ms/sample - loss: 4.7715 - accuracy: 0.1215\n",
      "Epoch 20/100\n",
      "15462/15462 [==============================] - 107s 7ms/sample - loss: 4.6657 - accuracy: 0.1299\n",
      "Epoch 21/100\n",
      "15462/15462 [==============================] - 101s 7ms/sample - loss: 4.5579 - accuracy: 0.1413\n",
      "Epoch 22/100\n",
      "15462/15462 [==============================] - 102s 7ms/sample - loss: 4.4499 - accuracy: 0.1520\n",
      "Epoch 23/100\n",
      "15462/15462 [==============================] - 101s 7ms/sample - loss: 4.3468 - accuracy: 0.1652\n",
      "Epoch 24/100\n",
      "15462/15462 [==============================] - 101s 7ms/sample - loss: 4.2390 - accuracy: 0.1782\n",
      "Epoch 25/100\n",
      "15462/15462 [==============================] - 102s 7ms/sample - loss: 4.1269 - accuracy: 0.1920\n",
      "Epoch 26/100\n",
      "15462/15462 [==============================] - 100s 6ms/sample - loss: 4.0279 - accuracy: 0.2057\n",
      "Epoch 27/100\n",
      "15462/15462 [==============================] - 100s 6ms/sample - loss: 3.9206 - accuracy: 0.2264\n",
      "Epoch 28/100\n",
      "15462/15462 [==============================] - 100s 6ms/sample - loss: 3.8214 - accuracy: 0.2398\n",
      "Epoch 29/100\n",
      "15462/15462 [==============================] - 102s 7ms/sample - loss: 3.7224 - accuracy: 0.2559\n",
      "Epoch 30/100\n",
      "15462/15462 [==============================] - 101s 7ms/sample - loss: 3.6146 - accuracy: 0.2771\n",
      "Epoch 31/100\n",
      "15462/15462 [==============================] - 99s 6ms/sample - loss: 3.5251 - accuracy: 0.2941\n",
      "Epoch 32/100\n",
      "15462/15462 [==============================] - 99s 6ms/sample - loss: 3.4321 - accuracy: 0.3166\n",
      "Epoch 33/100\n",
      "15462/15462 [==============================] - 99s 6ms/sample - loss: 3.3454 - accuracy: 0.3379\n",
      "Epoch 34/100\n",
      "15462/15462 [==============================] - 98s 6ms/sample - loss: 3.2558 - accuracy: 0.3556\n",
      "Epoch 35/100\n",
      "15462/15462 [==============================] - 98s 6ms/sample - loss: 3.1714 - accuracy: 0.3744\n",
      "Epoch 36/100\n",
      "15462/15462 [==============================] - 98s 6ms/sample - loss: 3.1062 - accuracy: 0.3922\n",
      "Epoch 37/100\n",
      "15462/15462 [==============================] - 98s 6ms/sample - loss: 3.0128 - accuracy: 0.4118\n",
      "Epoch 38/100\n",
      "15462/15462 [==============================] - 642s 41ms/sample - loss: 2.9333 - accuracy: 0.4297\n",
      "Epoch 39/100\n",
      "15462/15462 [==============================] - 101s 7ms/sample - loss: 2.8688 - accuracy: 0.4468\n",
      "Epoch 40/100\n",
      "15462/15462 [==============================] - 93s 6ms/sample - loss: 2.8098 - accuracy: 0.4591\n",
      "Epoch 41/100\n",
      "15462/15462 [==============================] - 100s 6ms/sample - loss: 2.7246 - accuracy: 0.4743\n",
      "Epoch 42/100\n",
      "15462/15462 [==============================] - 100s 6ms/sample - loss: 2.6727 - accuracy: 0.4895\n",
      "Epoch 43/100\n",
      "15462/15462 [==============================] - 99s 6ms/sample - loss: 2.6055 - accuracy: 0.5038\n",
      "Epoch 44/100\n",
      "15462/15462 [==============================] - 100s 6ms/sample - loss: 2.5471 - accuracy: 0.5150\n",
      "Epoch 45/100\n",
      "15462/15462 [==============================] - 101s 7ms/sample - loss: 2.4958 - accuracy: 0.5270\n",
      "Epoch 46/100\n",
      "15462/15462 [==============================] - 99s 6ms/sample - loss: 2.4331 - accuracy: 0.5443\n",
      "Epoch 47/100\n",
      "15462/15462 [==============================] - 99s 6ms/sample - loss: 2.3821 - accuracy: 0.5530\n",
      "Epoch 48/100\n",
      "15462/15462 [==============================] - 100s 6ms/sample - loss: 2.3271 - accuracy: 0.5646\n",
      "Epoch 49/100\n",
      "15462/15462 [==============================] - 99s 6ms/sample - loss: 2.2751 - accuracy: 0.5792\n",
      "Epoch 50/100\n",
      "15462/15462 [==============================] - 100s 6ms/sample - loss: 2.2346 - accuracy: 0.5875\n",
      "Epoch 51/100\n",
      "15462/15462 [==============================] - 99s 6ms/sample - loss: 2.1972 - accuracy: 0.5962\n",
      "Epoch 52/100\n",
      "15462/15462 [==============================] - 100s 6ms/sample - loss: 2.1394 - accuracy: 0.6101\n",
      "Epoch 53/100\n",
      "15462/15462 [==============================] - 99s 6ms/sample - loss: 2.0975 - accuracy: 0.6185\n",
      "Epoch 54/100\n",
      "15462/15462 [==============================] - 98s 6ms/sample - loss: 2.0627 - accuracy: 0.6270\n",
      "Epoch 55/100\n",
      "15462/15462 [==============================] - 98s 6ms/sample - loss: 2.0269 - accuracy: 0.6355\n",
      "Epoch 56/100\n",
      "15462/15462 [==============================] - 98s 6ms/sample - loss: 1.9845 - accuracy: 0.6440\n",
      "Epoch 57/100\n",
      "15462/15462 [==============================] - 98s 6ms/sample - loss: 1.9348 - accuracy: 0.6528\n",
      "Epoch 58/100\n",
      "15462/15462 [==============================] - 99s 6ms/sample - loss: 1.9005 - accuracy: 0.6629\n",
      "Epoch 59/100\n",
      "15462/15462 [==============================] - 99s 6ms/sample - loss: 1.8763 - accuracy: 0.6688\n",
      "Epoch 60/100\n",
      "15462/15462 [==============================] - 98s 6ms/sample - loss: 1.8463 - accuracy: 0.6722\n",
      "Epoch 61/100\n",
      "15462/15462 [==============================] - 98s 6ms/sample - loss: 1.8018 - accuracy: 0.6834\n",
      "Epoch 62/100\n",
      "15462/15462 [==============================] - 98s 6ms/sample - loss: 1.7831 - accuracy: 0.6838\n",
      "Epoch 63/100\n",
      "15462/15462 [==============================] - 99s 6ms/sample - loss: 1.7394 - accuracy: 0.6951\n",
      "Epoch 64/100\n",
      "15462/15462 [==============================] - 98s 6ms/sample - loss: 1.7271 - accuracy: 0.6964\n",
      "Epoch 65/100\n",
      "15462/15462 [==============================] - 98s 6ms/sample - loss: 1.6928 - accuracy: 0.7039\n",
      "Epoch 66/100\n",
      "15462/15462 [==============================] - 1046s 68ms/sample - loss: 1.6563 - accuracy: 0.7108\n",
      "Epoch 67/100\n",
      "15462/15462 [==============================] - 101s 7ms/sample - loss: 1.6342 - accuracy: 0.7147\n",
      "Epoch 68/100\n",
      "15462/15462 [==============================] - 101s 7ms/sample - loss: 1.6279 - accuracy: 0.7130\n",
      "Epoch 69/100\n",
      "15462/15462 [==============================] - 101s 7ms/sample - loss: 1.5871 - accuracy: 0.7277\n",
      "Epoch 70/100\n",
      "15462/15462 [==============================] - 100s 6ms/sample - loss: 1.5681 - accuracy: 0.7267\n",
      "Epoch 71/100\n",
      "15462/15462 [==============================] - 101s 7ms/sample - loss: 1.5393 - accuracy: 0.7363\n",
      "Epoch 72/100\n",
      "15462/15462 [==============================] - 101s 7ms/sample - loss: 1.5142 - accuracy: 0.7383\n",
      "Epoch 73/100\n",
      "15462/15462 [==============================] - 101s 7ms/sample - loss: 1.4897 - accuracy: 0.7441\n",
      "Epoch 74/100\n",
      "15462/15462 [==============================] - 100s 6ms/sample - loss: 1.4835 - accuracy: 0.7440\n",
      "Epoch 75/100\n"
     ]
    },
    {
     "name": "stdout",
     "output_type": "stream",
     "text": [
      "15462/15462 [==============================] - 426s 28ms/sample - loss: 1.4661 - accuracy: 0.7479\n",
      "Epoch 76/100\n",
      "15462/15462 [==============================] - 100s 6ms/sample - loss: 1.4403 - accuracy: 0.7537\n",
      "Epoch 77/100\n",
      "15462/15462 [==============================] - 99s 6ms/sample - loss: 1.4178 - accuracy: 0.7573\n",
      "Epoch 78/100\n",
      "15462/15462 [==============================] - 100s 6ms/sample - loss: 1.3976 - accuracy: 0.7612\n",
      "Epoch 79/100\n",
      "15462/15462 [==============================] - 100s 6ms/sample - loss: 1.3871 - accuracy: 0.7617\n",
      "Epoch 80/100\n",
      "15462/15462 [==============================] - 99s 6ms/sample - loss: 1.3728 - accuracy: 0.7646\n",
      "Epoch 81/100\n",
      "15462/15462 [==============================] - 99s 6ms/sample - loss: 1.3484 - accuracy: 0.7712\n",
      "Epoch 82/100\n",
      "15462/15462 [==============================] - 99s 6ms/sample - loss: 1.3433 - accuracy: 0.7678\n",
      "Epoch 83/100\n",
      "15462/15462 [==============================] - 99s 6ms/sample - loss: 1.3338 - accuracy: 0.7712\n",
      "Epoch 84/100\n",
      "15462/15462 [==============================] - 99s 6ms/sample - loss: 1.3116 - accuracy: 0.7743\n",
      "Epoch 85/100\n",
      "15462/15462 [==============================] - 100s 6ms/sample - loss: 1.2950 - accuracy: 0.7774\n",
      "Epoch 86/100\n",
      "15462/15462 [==============================] - 104s 7ms/sample - loss: 1.2744 - accuracy: 0.7814\n",
      "Epoch 87/100\n",
      "15462/15462 [==============================] - 101s 7ms/sample - loss: 1.2773 - accuracy: 0.7814\n",
      "Epoch 88/100\n",
      "15462/15462 [==============================] - 101s 7ms/sample - loss: 1.2658 - accuracy: 0.7826\n",
      "Epoch 89/100\n",
      "15462/15462 [==============================] - 101s 7ms/sample - loss: 1.2476 - accuracy: 0.7873\n",
      "Epoch 90/100\n",
      "15462/15462 [==============================] - 102s 7ms/sample - loss: 1.2222 - accuracy: 0.7913\n",
      "Epoch 91/100\n",
      "15462/15462 [==============================] - 101s 7ms/sample - loss: 1.2135 - accuracy: 0.7930\n",
      "Epoch 92/100\n",
      "15462/15462 [==============================] - 102s 7ms/sample - loss: 1.2082 - accuracy: 0.7923\n",
      "Epoch 93/100\n",
      "15462/15462 [==============================] - 101s 7ms/sample - loss: 1.1932 - accuracy: 0.7963\n",
      "Epoch 94/100\n",
      "15462/15462 [==============================] - 100s 6ms/sample - loss: 1.1863 - accuracy: 0.7926\n",
      "Epoch 95/100\n",
      "15462/15462 [==============================] - 100s 6ms/sample - loss: 1.1752 - accuracy: 0.7978\n",
      "Epoch 96/100\n",
      "15462/15462 [==============================] - 100s 6ms/sample - loss: 1.1623 - accuracy: 0.7978\n",
      "Epoch 97/100\n",
      "15462/15462 [==============================] - 100s 6ms/sample - loss: 1.1466 - accuracy: 0.8040\n",
      "Epoch 98/100\n",
      "15462/15462 [==============================] - 100s 6ms/sample - loss: 1.1430 - accuracy: 0.8033\n",
      "Epoch 99/100\n",
      "15462/15462 [==============================] - 101s 7ms/sample - loss: 1.1308 - accuracy: 0.8036\n",
      "Epoch 100/100\n",
      "15462/15462 [==============================] - 101s 7ms/sample - loss: 1.1301 - accuracy: 0.8046\n"
     ]
    }
   ],
   "source": [
    "history = model.fit(predictors, label, epochs=100, verbose=1)"
   ]
  },
  {
   "cell_type": "markdown",
   "metadata": {},
   "source": [
    "### Visualizing the accuracy & loss trade off"
   ]
  },
  {
   "cell_type": "code",
   "execution_count": 25,
   "metadata": {},
   "outputs": [
    {
     "data": {
      "image/png": "[encoded data removed]",
      "text/plain": [
       "<Figure size 432x288 with 1 Axes>"
      ]
     },
     "metadata": {
      "needs_background": "light"
     },
     "output_type": "display_data"
    },
    {
     "data": {
      "image/png": "[encoded data removed]",
      "text/plain": [
       "<Figure size 432x288 with 1 Axes>"
      ]
     },
     "metadata": {
      "needs_background": "light"
     },
     "output_type": "display_data"
    }
   ],
   "source": [
    "import matplotlib.pyplot as plt\n",
    "acc = history.history['accuracy']\n",
    "loss = history.history['loss']\n",
    "\n",
    "epochs = range(len(acc))\n",
    "\n",
    "plt.plot(epochs, acc, 'b', label='Training accuracy')\n",
    "plt.title('Training accuracy')\n",
    "\n",
    "plt.figure()\n",
    "\n",
    "plt.plot(epochs, loss, 'b', label='Training Loss')\n",
    "plt.title('Training loss')\n",
    "plt.legend()\n",
    "\n",
    "\n",
    "plt.show()"
   ]
  },
  {
   "cell_type": "markdown",
   "metadata": {},
   "source": [
    "### Predicting the next 100 words"
   ]
  },
  {
   "cell_type": "code",
   "execution_count": 26,
   "metadata": {},
   "outputs": [
    {
     "name": "stdout",
     "output_type": "stream",
     "text": [
      "Help me Obi Wan Kenobi, you're my only hope be 'this it must die be bright twain love so glory do see true bright true 'will ' lies brought to make him seen cherish admire give hide ' doth grow rage of burn prove give change men quite fall by ill ' have do write not find true bright change loving friend true bright prove good friend forth true friend bright true bright 'no ' art not live she lies stol'n of him more doth tender'd change and friend much be ill eye ' spent hast not now so know true prove me prove thee achieve well remain ill\n"
     ]
    }
   ],
   "source": [
    "seed_text = \"Help me Obi Wan Kenobi, you're my only hope\"\n",
    "next_words = 100\n",
    "  \n",
    "for _ in range(next_words):\n",
    "    token_list = tokenizer.texts_to_sequences([seed_text])[0]\n",
    "    token_list = pad_sequences([token_list], maxlen=max_sequence_len-1, padding='pre')\n",
    "    predicted = model.predict_classes(token_list, verbose=0)\n",
    "    output_word = \"\"\n",
    "    for word, index in tokenizer.word_index.items():\n",
    "        if index == predicted:\n",
    "            output_word = word\n",
    "            break\n",
    "    seed_text += \" \" + output_word\n",
    "print(seed_text)"
   ]
  }
 ],
 "metadata": {
  "kernelspec": {
   "display_name": "Python 3",
   "language": "python",
   "name": "python3"
  },
  "language_info": {
   "codemirror_mode": {
    "name": "ipython",
    "version": 3
   },
   "file_extension": ".py",
   "mimetype": "text/x-python",
   "name": "python",
   "nbconvert_exporter": "python",
   "pygments_lexer": "ipython3",
   "version": "3.7.7"
  }
 },
 "nbformat": 4,
 "nbformat_minor": 4
}
